{
 "cells": [
  {
   "cell_type": "code",
   "execution_count": null,
   "metadata": {},
   "outputs": [],
   "source": [
    "# HuggingFace\n",
    "from langchain_huggingface.embeddings import HuggingFaceEndpointEmbeddings\n",
    "from langchain_huggingface import ChatHuggingFace, HuggingFaceEndpoint\n",
    "# Prompts\n",
    "from langchain.prompts import PromptTemplate\n",
    "from langchain.vectorstores import DeepLake\n",
    "from langchain.chains import RetrievalQA,RetrievalQAWithSourcesChain\n",
    "from langchain.text_splitter import RecursiveCharacterTextSplitter\n",
    "from langchain.retrievers import ContextualCompressionRetriever\n",
    "from langchain.document_loaders import PyPDFLoader\n",
    "from langchain_cohere import CohereEmbeddings, \\\n",
    "    CohereRerank as langchain_cohere_reranker\n",
    "# DeepLake\n",
    "import deeplake\n",
    "# Others\n",
    "import cohere\n",
    "import os\n",
    "import re"
   ]
  },
  {
   "cell_type": "markdown",
   "metadata": {},
   "source": [
    "## **Research Assistant**"
   ]
  },
  {
   "cell_type": "code",
   "execution_count": 2,
   "metadata": {},
   "outputs": [
    {
     "data": {
      "text/plain": [
       "True"
      ]
     },
     "execution_count": 2,
     "metadata": {},
     "output_type": "execute_result"
    }
   ],
   "source": [
    "from dotenv import load_dotenv\n",
    "\n",
    "# Provide the filename as a string\n",
    "load_dotenv('../.env')"
   ]
  },
  {
   "cell_type": "code",
   "execution_count": null,
   "metadata": {},
   "outputs": [],
   "source": [
    "# loadding Huggingface token\n",
    "HUGGINGFACEHUB_API_TOKEN = os.getenv(\"HUGGINGFACEHUB_API_TOKEN\")\n",
    "\n",
    "# models \n",
    "repo_id = \"mistralai/Mistral-7B-Instruct-v0.3\"\n",
    "\n",
    "\n",
    "# model parameters\n",
    "model_kwargs = {\n",
    "    # \"max_new_tokens\": 1000, # Maximum tokens to generate\n",
    "    # \"max_length\": 4000, # Maximum length of input + output\n",
    "    \"temperature\": 0.1, # Controls randomness of output\n",
    "    \"timeout\": 6000,\n",
    "    # \"task\":'conversational'\n",
    "}\n",
    "\n",
    "# LLM set up\n",
    "llm = HuggingFaceEndpoint(\n",
    "    repo_id=repo_id,\n",
    "    huggingfacehub_api_token = HUGGINGFACEHUB_API_TOKEN,\n",
    "    **model_kwargs\n",
    "    # you specify the task or not\n",
    "    # You can also specify the task in the model_kwargs or within here\n",
    "    # task = 'conversational',\n",
    ")\n",
    "\n",
    "chat_model = ChatHuggingFace(llm=llm)"
   ]
  },
  {
   "cell_type": "markdown",
   "metadata": {},
   "source": [
    "### **Collecting Resources**"
   ]
  },
  {
   "cell_type": "code",
   "execution_count": null,
   "metadata": {},
   "outputs": [],
   "source": [
    "desktop = os.path.expanduser(\"~\\Desktop\")\n",
    "research_assistant = os.path.join(desktop,'research_assistant')\n",
    "research_articles = os.path.join(research_assistant,\"research_articles\")"
   ]
  },
  {
   "cell_type": "code",
   "execution_count": 5,
   "metadata": {},
   "outputs": [],
   "source": [
    "# Collecting all pdfs files\n",
    "pdf_files = []\n",
    "for root, dirs, files in os.walk(research_articles):\n",
    "    for file in files:\n",
    "        if file.lower().endswith(\".pdf\"):\n",
    "            pdf_files.append(os.path.join(root,file))\n",
    "\n",
    "# Loading, splitting and appending each pdf file\n",
    "all_pages = []\n",
    "for pdf in pdf_files:\n",
    "    loader = PyPDFLoader(pdf)\n",
    "    pages = loader.load_and_split()\n",
    "    all_pages.extend(pages)"
   ]
  },
  {
   "cell_type": "code",
   "execution_count": null,
   "metadata": {},
   "outputs": [],
   "source": [
    "# Resource inspection for understanding\n",
    "print(f\"Length of documents:\\n{len(all_pages)}\\n\")\n",
    "print(f\"The whole documents:\\n{all_pages}\\n\")\n",
    "print(f\"Taking a document from the book:\\n{all_pages[0]}\\n\")\n",
    "print(f\"Taking a page content from the book:\\n{all_pages[0].page_content}\\n\")\n",
    "print(f\"Taking a meta data from the book:\\n{all_pages[0].metadata}\\n\")\n",
    "print(f\"Meta data keys: {list(all_pages[0].metadata.keys())}\\n\")\n",
    "print(f\"Taking a source from meta data from the book:\\n{all_pages[0].metadata['source']}\\n\")\n",
    "print(f\"Taking a page from meta data from the book:\\n{all_pages[0].metadata['page']}\")"
   ]
  },
  {
   "cell_type": "code",
   "execution_count": 7,
   "metadata": {},
   "outputs": [],
   "source": [
    "# Chunking \n",
    "text_splitter = RecursiveCharacterTextSplitter(chunk_size=3000, chunk_overlap=700)\n",
    "docs = text_splitter.split_documents(all_pages)"
   ]
  },
  {
   "cell_type": "code",
   "execution_count": null,
   "metadata": {},
   "outputs": [],
   "source": [
    "# Resource inspection for understanding\n",
    "print(f\"Length of documents:\\n{len(docs)}\\n\")\n",
    "print(f\"The whole documents:\\n{docs}\\n\")\n",
    "print(f\"Taking a document from the book:\\n{docs[1]}\\n\")\n",
    "print(f\"Taking a page content from the book:\\n{docs[1].page_content}\\n\")\n",
    "print(f\"Taking a meta data from the book:\\n{docs[1].metadata}\\n\")\n",
    "print(f\"Meta data keys: {list(docs[1].metadata.keys())}\\n\")\n",
    "print(f\"Taking a source from meta data from the book:\\n{docs[1].metadata['source']}\\n\")\n",
    "filename = os.path.splitext(os.path.basename(docs[1].metadata['source']))[0]\n",
    "print(f\"The book name :\\n{filename}\")\n",
    "print(f\"Taking a page from meta data from the book:\\n{docs[1].metadata['page']}\")\n",
    "print(f\"Taking a page label from meta data from the book:\\n{docs[1].metadata['page_label']}\")"
   ]
  },
  {
   "cell_type": "code",
   "execution_count": 9,
   "metadata": {},
   "outputs": [],
   "source": [
    "all_texts, all_metadatas = [], []\n",
    "\n",
    "for i in range(len(docs)):\n",
    "    all_texts.append(docs[i].page_content)\n",
    "    filename = os.path.splitext(os.path.basename(docs[i].metadata['source']))[0]\n",
    "    all_metadatas.append({'source':f\"Title: {filename}, Page: {docs[i].metadata['page_label']}\"})"
   ]
  },
  {
   "cell_type": "code",
   "execution_count": 10,
   "metadata": {},
   "outputs": [
    {
     "name": "stdout",
     "output_type": "stream",
     "text": [
      "Table 2\n",
      "Classification report for 80 % Training-set and 20 % Testing-set.\n",
      "Classifications Labels TF-IDF BoW\n",
      "Precision Recall F1-score Support Accuracy Precision Recall F1-score Support Accuracy\n",
      "LR Fact 0.83 0.97 0.90 192 0.85 0.95 0.90 0.92 192 0.90\n",
      "Myth 0.89 0.57 0.70 87 0.80 0.89 0.84 87\n",
      "Macro avg 0.86 0.77 0.80 279 0.87 0.89 0.88 279\n",
      "Weighted avg 0.85 0.85 0.83 279 0.90 0.90 0.90 279\n",
      "RF Fact 0.88 0.90 0.89 192 0.85 0.88 0.90 0.89 192 0.85\n",
      "Myth 0.76 0.74 0.75 87 0.77 0.72 0.75 87\n",
      "Macro avg 0.82 0.82 0.82 279 0.82 0.81 0.82 279\n",
      "Weighted avg 0.84 0.85 0.85 279 0.84 0.85 0.84 279\n",
      "SVM Fact 0.87 0.96 0.91 192 0.87 0.93 0.85 0.89 192 0.85\n",
      "Myth 0.88 0.69 0.77 87 0.72 0.86 0.79 87\n",
      "Macro avg 0.88 0.82 0.84 279 0.83 0.86 0.84 279\n",
      "Weighted avg 0.88 0.87 0.87 279 0.87 0.85 0.86 279\n",
      "NB Fact 0.73 0.99 0.84 192 0.74 0.85 0.97 0.91 192 0.86\n",
      "Myth 0.94 0.18 0.31 87 0.90 0.62 0.73 87\n",
      "Macro avg 0.84 0.59 0.57 279 0.87 0.79 0.82 279\n",
      "Weighted avg 0.80 0.74 0.67 279 0.87 0.86 0.85 279\n",
      "DT Fact 0.87 0.82 0.84 192 0.79 0.88 0.82 0.85 192 0.80\n",
      "Myth 0.64 0.72 0.68 87 0.66 0.76 0.71 87\n",
      "Macro avg 0.76 0.77 0.76 279 0.77 0.79 0.78 279\n",
      "Weighted avg 0.80 0.79 0.79 279 0.81 0.80 0.81 279\n",
      "KNN Fact 0.90 0.91 0.90 192 0.87 0.91 0.62 0.74 192 0.70\n",
      "Myth 0.79 0.78 0.79 87 0.51 0.86 0.64 87\n",
      "Macro avg 0.85 0.84 0.85 279 0.71 0.74 0.69 279\n",
      "Weighted avg 0.87 0.87 0.87 279 0.78 0.70 0.71 279\n",
      "CNN Fact 0.92 0.92 0.92 192 0.89 0.93 0.89 0.91 192 0.88\n",
      "Myth 0.82 0.83 0.82 87 0.78 0.86 0.82 87\n",
      "Macro avg 0.87 0.87 0.87 279 0.86 0.88 0.87 279\n",
      "Weighted avg 0.89 0.89 0.89 279 0.89 0.88 0.88 279\n",
      "M. Tajrian et al. Heliyon 10 (2024) e36652 \n",
      "12\n",
      "{'source': 'Title: Analysis of child development facts and myths using text mining techniques and classification models, Page: 12'}\n"
     ]
    }
   ],
   "source": [
    "print(all_texts[65])\n",
    "print(all_metadatas[65])"
   ]
  },
  {
   "cell_type": "markdown",
   "metadata": {},
   "source": [
    "### **Creating the Vector Store**"
   ]
  },
  {
   "cell_type": "code",
   "execution_count": null,
   "metadata": {},
   "outputs": [],
   "source": [
    "# Cohere Embeddings\n",
    "COHERE_API_KEY = os.getenv(\"COHERE_API_KEY\")\n",
    "cohere_embeddings = CohereEmbeddings(\n",
    "    model=\"embed-english-v3.0\",\n",
    "    # model=\"embed-english-v2.0\",\n",
    "    cohere_api_key=COHERE_API_KEY)\n",
    "\n",
    "\n",
    "# model=\"sentence-transformers/all-MiniLM-L12-v2\"\n",
    "# embeddings = HuggingFaceEndpointEmbeddings(model=model)\n",
    "\n",
    "# Create Deep Lake Vector Store\n",
    "ACTIVELOOP_TOKEN = os.getenv(\"ACTIVELOOP_TOKEN\")\n",
    "my_activeloop_org_id = \"danllm\"\n",
    "my_activeloop_dataset_name = \"research_assisant\"\n",
    "dataset_path = f\"hub://{my_activeloop_org_id}/{my_activeloop_dataset_name}\"\n",
    "\n",
    "db = DeepLake(dataset_path=dataset_path, embedding=cohere_embeddings,overwrite=True)\n",
    "db.add_texts(all_texts,all_metadatas)\n",
    "\n",
    "# Read mode for vector store\n",
    "# db = DeepLake(dataset_path=dataset_path, embedding=cohere_embeddings,read_only=True)\n",
    "\n"
   ]
  },
  {
   "cell_type": "markdown",
   "metadata": {},
   "source": [
    "### **RetrievalQAWithSourcesChain**"
   ]
  },
  {
   "cell_type": "code",
   "execution_count": 12,
   "metadata": {},
   "outputs": [],
   "source": [
    "search_kwargs = {\"k\":4}\n",
    "\n",
    "retriever = db.as_retriever(search_kwargs=search_kwargs)\n",
    "qa = RetrievalQAWithSourcesChain.from_chain_type(\n",
    "    llm=chat_model,\n",
    "    chain_type=\"stuff\",\n",
    "    retriever = retriever\n",
    ")"
   ]
  },
  {
   "cell_type": "code",
   "execution_count": 13,
   "metadata": {},
   "outputs": [],
   "source": [
    "input_data = {\n",
    "    \"question\": \"what did Mehedi Tajrian discover in there research?\"\n",
    "}\n",
    "d_response = qa.invoke(input_data)"
   ]
  },
  {
   "cell_type": "code",
   "execution_count": null,
   "metadata": {},
   "outputs": [
    {
     "name": "stdout",
     "output_type": "stream",
     "text": [
      "what did Mehedi Tajrian discover in there research?\n",
      " Mehedi Tajrian discovered that structured data was analyzed using two feature extraction methods and six traditional classification models, with LR achieving the highest accuracy rate using BoW. The study also used a deep learning model, and cross-validation was performed using k-fold and loo methods. The data used in this study is openly available at https://researchoutput.csu.edu.au/en/datasets/myths-and-facts-data-on-child-development.\n",
      "\n",
      "Source(s):\n",
      "Title: Analysis of child development facts and myths using text mining techniques and classification models\n",
      "Page: 15\n"
     ]
    }
   ],
   "source": [
    "print(d_response['question'])\n",
    "print(d_response['answer'])\n",
    "print(\"Source(s):\")\n",
    "for source in d_response['sources'].split(\";\"):\n",
    "    for source in source.split(\",\"):\n",
    "        if source:\n",
    "            print(source.strip())\n",
    "        else:\n",
    "            print('Not source')"
   ]
  },
  {
   "cell_type": "markdown",
   "metadata": {},
   "source": [
    "### **The Prompt**"
   ]
  },
  {
   "cell_type": "code",
   "execution_count": 14,
   "metadata": {},
   "outputs": [],
   "source": [
    "prompt_template_researcher = \"\"\"\n",
    "As an NLP researcher, Give an in depth explanation for your the text the given text below in 5 bulletins\n",
    "Text: {text}\n",
    "Your answer should be \n",
    "{text}\\n\\n\\n\n",
    "\n",
    "Full description:\n",
    "\"\"\"\n",
    "prompt_researcher_input_variables = ['text']\n",
    "prompt_researcher = PromptTemplate(\n",
    "    template=prompt_template_researcher,\n",
    "    input_variables=prompt_researcher_input_variables\n",
    ")"
   ]
  },
  {
   "cell_type": "markdown",
   "metadata": {},
   "source": [
    "### **RetrievalQAWithSourcesChain With Prompting**"
   ]
  },
  {
   "cell_type": "code",
   "execution_count": 15,
   "metadata": {},
   "outputs": [
    {
     "name": "stdout",
     "output_type": "stream",
     "text": [
      "Why did Mehedi Tajrian analyse child development and what was the best classifier?\n",
      "\n",
      "Final Answer:\n",
      " Mehedi Tajrian analyzed child development using text mining techniques and the best classifier found was Logistic Regression (LR) with a Bag-of-Words (BoW) feature extraction method.\n",
      "\n",
      "Summarised answer:\n",
      " 1. Mehedi Tajrian conducted a study on child development, utilizing text mining techniques. Text mining, also known as text analytics, is a sub-field of data mining that focuses on extracting useful information and knowledge from unstructured text data, such as emails, social media posts, and research articles.\n",
      "\n",
      "2. To classify the child development data, Tajrian employed Logistic Regression (LR) as the best-performing classifier. Logistic Regression is a statistical model used for binary classification problems, where the goal is to predict whether an observation belongs to one of two classes. It is a popular choice in machine learning due to its simplicity, interpretability, and good performance in many applications.\n",
      "\n",
      "3. To prepare the data for the LR classifier, Tajrian used a Bag-of-Words (BoW) feature extraction method. BoW is a common technique in text mining that represents text documents as a bag (i.e., an unordered collection) of words, without considering their order or grammatical structure. Each document is converted into a vector of word counts or term frequencies, which can then be used as input to the LR classifier.\n",
      "\n",
      "4. By using the Bag-of-Words feature extraction method, Tajrian transformed the text data into a numerical format that could be easily processed by the LR classifier. This allowed the classifier to learn patterns and relationships between the words in the text and the corresponding child development outcomes.\n",
      "\n",
      "5. The use of Logistic Regression with Bag-of-Words feature extraction demonstrated a successful approach for analyzing child development using text mining techniques. This method could potentially be applied to other domains where text data is available and the goal is to classify or predict outcomes based on the content of the text.\n",
      "Source(s):\n",
      "Title: Analysis of child development facts and myths using text mining techniques and classification models, Page: 15\n"
     ]
    }
   ],
   "source": [
    "input_data = {'question':\"Why did Mehedi Tajrian analyse child development and what was the best classifier?\"}\n",
    "search_kwargs = {\"k\":4}\n",
    "retriever = db.as_retriever(search_kwargs=search_kwargs)\n",
    "qa = RetrievalQAWithSourcesChain.from_chain_type(\n",
    "    llm=chat_model,\n",
    "    chain_type=\"stuff\",\n",
    "    retriever = retriever\n",
    ")\n",
    "d_response = qa.invoke(input_data)\n",
    "print(f\"{d_response['question']}\\n\")\n",
    "print(f\"Final Answer:\\n{d_response['answer']}\")\n",
    "# Extract the answer\n",
    "researcher_input_data = {\"text\":d_response['answer'].strip()}\n",
    "llm_researcher_chain = prompt_researcher | chat_model\n",
    "# Summarise the answer\n",
    "summariser_response = llm_researcher_chain.invoke(researcher_input_data)\n",
    "print(f\"Summarised answer:\\n{summariser_response.content}\")\n",
    "print(\"Source(s):\")\n",
    "sources = re.split(r'[;]', d_response['sources'])\n",
    "for source in sources:\n",
    "    source = source.strip()\n",
    "    if source:\n",
    "        print(source)\n",
    "    else:\n",
    "        print(\"No sources\")"
   ]
  },
  {
   "cell_type": "markdown",
   "metadata": {},
   "source": [
    "### **RetrievalQAWithSourcesChain With Reranker**"
   ]
  },
  {
   "cell_type": "code",
   "execution_count": 16,
   "metadata": {},
   "outputs": [],
   "source": [
    "compressor = langchain_cohere_reranker(model='rerank-english-v3.0')\n",
    "compression_retriever = ContextualCompressionRetriever(\n",
    "    base_compressor=compressor,base_retriever=retriever\n",
    ")\n",
    "\n",
    "compressed_docs = compression_retriever.invoke(\"Why did Mehedi Tajrian analyse child development and what was the best classifier?\")"
   ]
  },
  {
   "cell_type": "code",
   "execution_count": 17,
   "metadata": {},
   "outputs": [
    {
     "data": {
      "text/plain": [
       "[Document(metadata={'source': 'Title: Analysis of child development facts and myths using text mining techniques and classification models, Page: 1', 'relevance_score': 0.997851}, page_content='Research article\\nAnalysis of child development facts and myths using text mining\\ntechniques and classification models\\nMehedi Tajrian\\n**\\n, Azizur Rahman , Muhammad Ashad Kabir\\n*\\n, Md Rafiqul Islam\\nSchool of Computing, Mathematics and Engineering, Charles Sturt University, NSW, Australia\\nARTICLE INFO\\nKeywords:\\nMisinformation\\nMyth\\nText mining\\nMachine learning\\nDeep learning\\nABSTRACT\\nThe rapid dissemination of misinformation on the internet complicates the decision-making\\nprocess for individuals seeking reliable information, particularly parents researching child\\ndevelopment topics. This misinformation can lead to adverse consequences, such as inappropriate\\ntreatment of children based on myths. While previous research has utilized text-mining tech-\\nniques to predict child abuse cases, there has been a gap in the analysis of child development\\nmyths and facts. This study addresses this gap by applying text mining techniques and classifi-\\ncation models to distinguish between myths and facts about child development, leveraging newly\\ngathered data from publicly available websites. The research methodology involved several\\nstages. First, text mining techniques were employed to pre-process the data, ensuring enhanced\\naccuracy. Subsequently, the structured data was analysed using six robust Machine Learning (ML)\\nclassifiers and one Deep Learning (DL) model, with two feature extraction techniques applied to\\nassess their performance across three different training-testing splits. To ensure the reliability of\\nthe results, cross-validation was performed using both k-fold and leave-one-out methods. Among\\nthe classification models tested, Logistic Regression (LR) demonstrated the highest accuracy,\\nachieving a 90 % accuracy with the Bag-of-Words (BoW) feature extraction technique. LR stands\\nout for its exceptional speed and efficiency, maintaining low testing time per statement (0.97 μ s).\\nThese findings suggest that LR, when combined with BoW, is effective in accurately classifying\\nchild development information, thus providing a valuable tool for combating misinformation and\\nassisting parents in making informed decisions.\\n1. Introduction\\nIn the internet age, misinformation spreads rapidly, leading to anxiety, depression, and emotional exhaustion among individuals\\n[ 1 , 2 ]. Awareness of misinformation is crucial to prevent being misled. Myths, a form of misinformation, are often false statements that\\ngo unchallenged and are perpetuated through social and familial influences [ 3 ]. Although some myths may hold true for a few in-\\ndividuals, they are generally misunderstood by the broader public. Research on child development is vital [ 4 ]. Proper treatment of\\nchildren is essential for their optimal growth and development. Parents ’ decisions about their children ’ s nutrition and overall\\ndevelopment are often influenced by the information they find online [ 5 ]. Unfortunately, not all this information is accurate, and'),\n",
       " Document(metadata={'source': 'Title: Analysis of child development facts and myths using text mining techniques and classification models, Page: 15', 'relevance_score': 0.9458012}, page_content='structured data was analysed using two feature extraction method and six traditional classification models and one deep learning\\nmodel, with LR achieving the highest accuracy rate using BoW. Cross-validation was performed using k-fold and loo methods,\\nproviding confidence in our findings. Cost-effectiveness evaluation is done using a performance indicator. Among them, LR achieves\\nthe highest accuracy rate using BoW with overall optimum testing time and robust testing time per statement. In addition to shedding\\nlight on myths and facts regarding child development, this study provides a solid base for future research in the field.\\nData availability statement\\nThe data used in this study are openly available at https://researchoutput.csu.edu.au/en/datasets/myths-and-facts-data-on-child-\\ndevelopment.\\nCRediT authorship contribution statement\\nMehedi Tajrian: Writing – original draft, Visualization, Validation, Software, Resources, Methodology, Investigation, Formal\\nanalysis, Data curation, Conceptualization. Azizur Rahman: Writing – review & editing, Supervision, Conceptualization. Muhammad\\nAshad Kabir: Writing – review & editing, Supervision, Conceptualization. Md Rafiqul Islam: Writing – review & editing, Supervision.\\nDeclaration of competing interest\\nThe authors declare the following financial interests/personal relationships which may be considered as potential competing in-\\nterests:The co-author, Associate Professor Ashad Kabir, holds the position of Associate Editor at Heliyon Journal.\\nAppendix A. Supplementary data\\nSupplementary data to this article can be found online at https://doi.org/10.1016/j.heliyon.2024.e36652.\\nReferences'),\n",
       " Document(metadata={'source': 'Title: Analysis of child development facts and myths using text mining techniques and classification models, Page: 2', 'relevance_score': 0.13672362}, page_content='A critical gap exists regarding the comprehensive analysis of myths and facts surrounding child development. Data on child\\ndevelopment myths and facts have not yet been analysed using modern data science techniques. A few studies used text mining to\\npredict child abuse cases [7,8]. This study aims to apply text mining techniques and classification models to analyse and differentiate\\nmyths and facts about child development. By leveraging newly gathered data from publicly available websites, the study seeks to\\nprovide valuable insights and improve the accuracy of information parents use in decision-making.\\nThe research addresses the following questions: (i) how effective are text mining techniques in pre-processing and structuring data\\non child development myths and facts? (ii) which classification models perform best in terms of accuracy when applied to this data?\\n(iii) how do different feature extraction techniques impact the performance of these models? (iv) what validation methods are most\\nreliable for verifying the accuracy of these models? and (v) how cost-effective are these models?\\nThe key contributions of this study are fourfold: (i) providing a comprehensive analysis of the new data, that is made useable\\nthrough several text mining techniques including categorization, preprocessing and cleaning, (ii) analysing the data by feature\\nextraction techniques and classification strategies, and comparing with deep learning method for different training-testing sizes; (iii)\\nverifying the analysis results through several validation methods; and (iv) evaluating the cost-effectiveness of the models. The findings\\nfrom this study would enrich the literature of data science which will help the researchers for their future analysis. It will also add a\\nnew domain of research findings about child development facts and myths, from which the parental community would be able to take\\nbetter decisions for their children.\\nThis study applies text mining techniques to pre-process the data for enhancing the performance and accuracy. The structured data\\nis then analysed using six classification and one deep learning models with two feature extraction techniques for three training-testing\\nsplits. Cross-validation is performed to ensure the reliability of the results. The findings indicate that LR achieves the highest accuracy\\nat 90 % using BoW. LR excels in speed and efficiency by maintaining low testing time per statement (0.97 μ s) for both feature\\nextraction methods. The results demonstrate that LR is effective in classifying child development information, providing a valuable\\ntool for debunking myths and aiding parents in making informed decisions. The findings enrich the data science literature and open a\\nnew domain of research on child development myths and facts, ultimately helping the parental community make better decisions for\\ntheir children.')]"
      ]
     },
     "execution_count": 17,
     "metadata": {},
     "output_type": "execute_result"
    }
   ],
   "source": [
    "compressed_docs"
   ]
  },
  {
   "cell_type": "code",
   "execution_count": null,
   "metadata": {},
   "outputs": [
    {
     "name": "stdout",
     "output_type": "stream",
     "text": [
      "structured data was analysed using two feature extraction method and six traditional classification models and one deep learning\n",
      "model, with LR achieving the highest accuracy rate using BoW. Cross-validation was performed using k-fold and loo methods,\n",
      "providing confidence in our findings. Cost-effectiveness evaluation is done using a performance indicator. Among them, LR achieves\n",
      "the highest accuracy rate using BoW with overall optimum testing time and robust testing time per statement. In addit\n"
     ]
    }
   ],
   "source": [
    "print(compressed_docs[1].page_content[:500]) # shorten thee output for testing purposes"
   ]
  },
  {
   "cell_type": "code",
   "execution_count": 18,
   "metadata": {},
   "outputs": [
    {
     "name": "stdout",
     "output_type": "stream",
     "text": [
      "{'source': 'Title: Analysis of child development facts and myths using text mining techniques and classification models, Page: 15', 'relevance_score': 0.9458012}\n"
     ]
    }
   ],
   "source": [
    "print(compressed_docs[1].metadata)"
   ]
  },
  {
   "cell_type": "code",
   "execution_count": 24,
   "metadata": {},
   "outputs": [
    {
     "name": "stdout",
     "output_type": "stream",
     "text": [
      "Final Answer:\n",
      "Research article\n",
      "Analysis of child development facts and myths using text mining\n",
      "techniques and classification models\n",
      "Mehedi Tajrian\n",
      "**\n",
      ", Azizur Rahman , Muhammad Ashad Kabir\n",
      "*\n",
      ", Md Rafiqul Islam\n",
      "School of Computing, Mathematics and Engineering, Charles Sturt University, NSW, Australia\n",
      "ARTICLE INFO\n",
      "Keywords:\n",
      "Misinformation\n",
      "Myth\n",
      "Text mining\n",
      "Machine learning\n",
      "Deep learning\n",
      "ABSTRACT\n",
      "The rapid dissemination of misinformation on the internet complicates the decision-making\n",
      "process for individuals seeking reliable information, particularly parents researching child\n",
      "development topics. This misinformation can lead to adverse consequences, such as inappropriate\n",
      "treatment of children based on myths. While previous research has utilized text-mining tech-\n",
      "niques to predict child abuse cases, there has been a gap in the analysis of child development\n",
      "myths and facts. This study addresses this gap by applying text mining techniques and classifi-\n",
      "cation models to distinguish between myths and facts about child development, leveraging newly\n",
      "gathered data from publicly available websites. The research methodology involved several\n",
      "stages. First, text mining techniques were employed to pre-process the data, ensuring enhanced\n",
      "accuracy. Subsequently, the structured data was analysed using six robust Machine Learning (ML)\n",
      "classifiers and one Deep Learning (DL) model, with two feature extraction techniques applied to\n",
      "assess their performance across three different training-testing splits. To ensure the reliability of\n",
      "the results, cross-validation was performed using both k-fold and leave-one-out methods. Among\n",
      "the classification models tested, Logistic Regression (LR) demonstrated the highest accuracy,\n",
      "achieving a 90 % accuracy with the Bag-of-Words (BoW) feature extraction technique. LR stands\n",
      "out for its exceptional speed and efficiency, maintaining low testing time per statement (0.97 μ s).\n",
      "These findings suggest that LR, when combined with BoW, is effective in accurately classifying\n",
      "child development information, thus providing a valuable tool for combating misinformation and\n",
      "assisting parents in making informed decisions.\n",
      "1. Introduction\n",
      "In the internet age, misinformation spreads rapidly, leading to anxiety, depression, and emotional exhaustion among individuals\n",
      "[ 1 , 2 ]. Awareness of misinformation is crucial to prevent being misled. Myths, a form of misinformation, are often false statements that\n",
      "go unchallenged and are perpetuated through social and familial influences [ 3 ]. Although some myths may hold true for a few in-\n",
      "dividuals, they are generally misunderstood by the broader public. Research on child development is vital [ 4 ]. Proper treatment of\n",
      "children is essential for their optimal growth and development. Parents ’ decisions about their children ’ s nutrition and overall\n",
      "development are often influenced by the information they find online [ 5 ]. Unfortunately, not all this information is accurate, and\n",
      "\n",
      "structured data was analysed using two feature extraction method and six traditional classification models and one deep learning\n",
      "model, with LR achieving the highest accuracy rate using BoW. Cross-validation was performed using k-fold and loo methods,\n",
      "providing confidence in our findings. Cost-effectiveness evaluation is done using a performance indicator. Among them, LR achieves\n",
      "the highest accuracy rate using BoW with overall optimum testing time and robust testing time per statement. In addition to shedding\n",
      "light on myths and facts regarding child development, this study provides a solid base for future research in the field.\n",
      "Data availability statement\n",
      "The data used in this study are openly available at https://researchoutput.csu.edu.au/en/datasets/myths-and-facts-data-on-child-\n",
      "development.\n",
      "CRediT authorship contribution statement\n",
      "Mehedi Tajrian: Writing – original draft, Visualization, Validation, Software, Resources, Methodology, Investigation, Formal\n",
      "analysis, Data curation, Conceptualization. Azizur Rahman: Writing – review & editing, Supervision, Conceptualization. Muhammad\n",
      "Ashad Kabir: Writing – review & editing, Supervision, Conceptualization. Md Rafiqul Islam: Writing – review & editing, Supervision.\n",
      "Declaration of competing interest\n",
      "The authors declare the following financial interests/personal relationships which may be considered as potential competing in-\n",
      "terests:The co-author, Associate Professor Ashad Kabir, holds the position of Associate Editor at Heliyon Journal.\n",
      "Appendix A. Supplementary data\n",
      "Supplementary data to this article can be found online at https://doi.org/10.1016/j.heliyon.2024.e36652.\n",
      "References\n",
      "\n",
      "A critical gap exists regarding the comprehensive analysis of myths and facts surrounding child development. Data on child\n",
      "development myths and facts have not yet been analysed using modern data science techniques. A few studies used text mining to\n",
      "predict child abuse cases [7,8]. This study aims to apply text mining techniques and classification models to analyse and differentiate\n",
      "myths and facts about child development. By leveraging newly gathered data from publicly available websites, the study seeks to\n",
      "provide valuable insights and improve the accuracy of information parents use in decision-making.\n",
      "The research addresses the following questions: (i) how effective are text mining techniques in pre-processing and structuring data\n",
      "on child development myths and facts? (ii) which classification models perform best in terms of accuracy when applied to this data?\n",
      "(iii) how do different feature extraction techniques impact the performance of these models? (iv) what validation methods are most\n",
      "reliable for verifying the accuracy of these models? and (v) how cost-effective are these models?\n",
      "The key contributions of this study are fourfold: (i) providing a comprehensive analysis of the new data, that is made useable\n",
      "through several text mining techniques including categorization, preprocessing and cleaning, (ii) analysing the data by feature\n",
      "extraction techniques and classification strategies, and comparing with deep learning method for different training-testing sizes; (iii)\n",
      "verifying the analysis results through several validation methods; and (iv) evaluating the cost-effectiveness of the models. The findings\n",
      "from this study would enrich the literature of data science which will help the researchers for their future analysis. It will also add a\n",
      "new domain of research findings about child development facts and myths, from which the parental community would be able to take\n",
      "better decisions for their children.\n",
      "This study applies text mining techniques to pre-process the data for enhancing the performance and accuracy. The structured data\n",
      "is then analysed using six classification and one deep learning models with two feature extraction techniques for three training-testing\n",
      "splits. Cross-validation is performed to ensure the reliability of the results. The findings indicate that LR achieves the highest accuracy\n",
      "at 90 % using BoW. LR excels in speed and efficiency by maintaining low testing time per statement (0.97 μ s) for both feature\n",
      "extraction methods. The results demonstrate that LR is effective in classifying child development information, providing a valuable\n",
      "tool for debunking myths and aiding parents in making informed decisions. The findings enrich the data science literature and open a\n",
      "new domain of research on child development myths and facts, ultimately helping the parental community make better decisions for\n",
      "their children.\n",
      "Source(s):\n",
      "- Title: Analysis of child development facts and myths using text mining techniques and classification models, Page: 1\n",
      "- Title: Analysis of child development facts and myths using text mining techniques and classification models, Page: 15\n",
      "- Title: Analysis of child development facts and myths using text mining techniques and classification models, Page: 2\n"
     ]
    }
   ],
   "source": [
    "retrieved_chunks = [doc.page_content for doc in compressed_docs]\n",
    "\n",
    "# format prompt\n",
    "final_answer = \"\\n\\n\".join(retrieved_chunks).strip()\n",
    "print(f\"Final Answer:\\n{final_answer}\")\n",
    "try:\n",
    "    sources = []\n",
    "    for i in range(len(compressed_docs)):\n",
    "        source = compressed_docs[i].metadata['source']\n",
    "        if not any(source == s for s in sources):\n",
    "            sources.append(source)\n",
    "except IndexError as error:\n",
    "    print(\"No sources\")\n",
    "    sources.append(\"No sources\")\n",
    "\n",
    "print(\"Source(s):\")\n",
    "for source in sources:\n",
    "    print(f\"- {source}\")"
   ]
  },
  {
   "cell_type": "markdown",
   "metadata": {},
   "source": [
    "### **RetrievalQAWithSourcesChain With both Reranker and Prompting**"
   ]
  },
  {
   "cell_type": "code",
   "execution_count": 28,
   "metadata": {},
   "outputs": [
    {
     "name": "stdout",
     "output_type": "stream",
     "text": [
      "Researcher answer:\n",
      " 1. The research article, titled \"Analysis of child development facts and myths using text mining techniques and classification models,\" is a study conducted by Mehedi Tajrian, Azizur Rahman, Muhammad Ashad Kabir, and Md Rafiqul Islam from the School of Computing, Mathematics and Engineering at Charles Sturt University, NSW, Australia.\n",
      "\n",
      "2. The study aims to address the gap in the analysis of child development myths and facts using modern data science techniques. It leverages newly gathered data from publicly available websites to distinguish between myths and facts about child development.\n",
      "\n",
      "3. The research methodology involves several stages: pre-processing the data using text mining techniques for enhanced accuracy, analyzing the structured data using six Machine Learning (ML) classifiers, one Deep Learning (DL) model, and two feature extraction techniques, and performing cross-validation using both k-fold and leave-one-out methods to ensure the reliability of the results.\n",
      "\n",
      "4. Among the classification models tested, Logistic Regression (LR) demonstrated the highest accuracy, achieving a 90% accuracy with the Bag-of-Words (BoW) feature extraction technique. LR stands out for its exceptional speed and efficiency, maintaining low testing time per statement (0.97 μ s).\n",
      "\n",
      "5. The findings suggest that LR, when combined with BoW, is effective in accurately classifying child development information, providing a valuable tool for combating misinformation and assisting parents in making informed decisions. The study also provides a solid base for future research in the field.\n",
      "Source(s):\n",
      "- Title: Analysis of child development facts and myths using text mining techniques and classification models, Page: 1\n",
      "- Title: Analysis of child development facts and myths using text mining techniques and classification models, Page: 15\n",
      "- Title: Analysis of child development facts and myths using text mining techniques and classification models, Page: 2\n"
     ]
    }
   ],
   "source": [
    "# Final Answer\n",
    "# print(f\"Final Answer:\\n{final_answer}\")\n",
    "# Extract the answer\n",
    "researcher_input_data = {\"text\":final_answer.strip()}\n",
    "llm_researcher_chain = prompt_researcher | chat_model\n",
    "# Resercher answer\n",
    "researcher_response = llm_researcher_chain.invoke(researcher_input_data)\n",
    "print(f\"Researcher answer:\\n{researcher_response.content}\")\n",
    "try:\n",
    "    sources = []\n",
    "    for i in range(len(compressed_docs)):\n",
    "        source = compressed_docs[i].metadata['source']\n",
    "        if not any(source == s for s in sources):\n",
    "            sources.append(source)\n",
    "except IndexError as error:\n",
    "    print(\"No sources\")\n",
    "    sources.append(\"No sources\")\n",
    "\n",
    "print(\"Source(s):\")\n",
    "for source in sources:\n",
    "    print(f\"- {source}\")"
   ]
  },
  {
   "cell_type": "markdown",
   "metadata": {},
   "source": [
    "### **Using the QA Pipeline**"
   ]
  },
  {
   "cell_type": "code",
   "execution_count": 31,
   "metadata": {},
   "outputs": [
    {
     "data": {
      "text/plain": [
       "{'query': 'Why did Mehedi Tajrian analyse child development and what was the best classifier?',\n",
       " 'result': ' Mehedi Tajrian analyzed child development to provide valuable insights and improve the accuracy of information parents use in decision-making. The best classifier found in the study was Logistic Regression (LR), which achieved the highest accuracy rate of 90% using the Bag-of-Words (BoW) feature extraction technique.'}"
      ]
     },
     "execution_count": 31,
     "metadata": {},
     "output_type": "execute_result"
    }
   ],
   "source": [
    "qa = RetrievalQA.from_chain_type(\n",
    "    llm=chat_model,\n",
    "    retriever=retriever\n",
    ")\n",
    "\n",
    "input_data = {\n",
    "    \"query\": \"Why did Mehedi Tajrian analyse child development and what was the best classifier?\"\n",
    "}\n",
    "qa.invoke(input_data)"
   ]
  },
  {
   "cell_type": "code",
   "execution_count": 32,
   "metadata": {},
   "outputs": [
    {
     "name": "stdout",
     "output_type": "stream",
     "text": [
      "Why did Mehedi Tajrian analyse child development and what was the best classifier?\n",
      "\n",
      "Final Answer:\n",
      " Mehedi Tajrian analyzed child development to provide valuable insights and improve the accuracy of information parents use in decision-making. The best classifier found in the study was Logistic Regression (LR), which achieved the highest accuracy rate of 90% using the Bag-of-Words (BoW) feature extraction technique.\n"
     ]
    }
   ],
   "source": [
    "d_response = qa.invoke(input_data)\n",
    "print(f\"{d_response['query']}\\n\")\n",
    "print(f\"Final Answer:\\n{d_response['result']}\")"
   ]
  },
  {
   "cell_type": "markdown",
   "metadata": {},
   "source": [
    "### **Using QA Pipeline With Prompting**"
   ]
  },
  {
   "cell_type": "code",
   "execution_count": 35,
   "metadata": {},
   "outputs": [
    {
     "name": "stdout",
     "output_type": "stream",
     "text": [
      "Why did Mehedi Tajrian analyse child development and what was the best classifier?\n",
      "\n",
      "Final Answer:\n",
      " Mehedi Tajrian analyzed child development to provide valuable insights and improve the accuracy of information parents use in decision-making. The best classifier found in the study was Logistic Regression (LR), which achieved the highest accuracy rate of 90% using the Bag-of-Words (BoW) feature extraction technique.\n",
      "\n",
      "Researcher answer:\n",
      " 1. Mehedi Tajrian conducted a study on child development with the aim of providing valuable insights and enhancing the accuracy of information that parents use in decision-making. The focus of the study was to develop a model that could effectively analyze and classify various aspects of child development.\n",
      "\n",
      "2. The study identified Logistic Regression (LR) as the best classifier, which demonstrated the highest accuracy rate of 90%. Logistic Regression is a statistical model used for binary classification problems, making it suitable for the study's purpose of classifying different stages or aspects of child development.\n",
      "\n",
      "3. To achieve this high accuracy rate, the study employed the Bag-of-Words (BoW) feature extraction technique. BoW is a popular text representation method in Natural Language Processing (NLP) that converts text into a mathematical representation of words in the document. This technique was used to analyze the text data related to child development, allowing the LR classifier to make accurate predictions.\n",
      "\n",
      "4. By using Logistic Regression and the Bag-of-Words feature extraction technique, the study was able to create a model that can effectively classify different aspects of child development, providing valuable insights for parents and potentially improving the accuracy of information they use in decision-making.\n",
      "\n",
      "5. The high accuracy rate of 90% suggests that the model developed in the study is robust and reliable, making it a promising tool for parents, educators, and researchers in the field of child development. The study's findings could lead to further advancements in the use of NLP techniques for analyzing and understanding child development data.\n"
     ]
    }
   ],
   "source": [
    "d_response = qa.invoke(input_data)\n",
    "print(f\"{d_response['query']}\\n\")\n",
    "print(f\"Final Answer:\\n{d_response['result']}\\n\")\n",
    "# Extract the answer\n",
    "researcher_input_data = {\"text\":d_response['result'].strip()}\n",
    "llm_researcher_chain = prompt_researcher | chat_model\n",
    "# Researcher  answer\n",
    "researcher_response = llm_researcher_chain.invoke(researcher_input_data)\n",
    "print(f\"Researcher answer:\\n{researcher_response.content}\")"
   ]
  },
  {
   "cell_type": "markdown",
   "metadata": {},
   "source": [
    "### **Using QA Pipeline With Reranker**\n",
    "- Same as RetrievalQAWithSourcesChain because they must use the base retriever"
   ]
  },
  {
   "cell_type": "markdown",
   "metadata": {},
   "source": [
    "### **Using QA Pipeline With Both Reranker and Prompting**\n",
    "- Same as RetrievalQAWithSourcesChain because they must use the base retriever"
   ]
  },
  {
   "cell_type": "markdown",
   "metadata": {},
   "source": [
    "### **Using Similarity Search without prompting**"
   ]
  },
  {
   "cell_type": "code",
   "execution_count": 36,
   "metadata": {},
   "outputs": [
    {
     "name": "stdout",
     "output_type": "stream",
     "text": [
      "Why did Mehedi Tajrian analyse child development and what was the best classifier?\n",
      "\n",
      "Final Answer:\n",
      "structured data was analysed using two feature extraction method and six traditional classification models and one deep learning\n",
      "model, with LR achieving the highest accuracy rate using BoW. Cross-validation was performed using k-fold and loo methods,\n",
      "providing confidence in our findings. Cost-effectiveness evaluation is done using a performance indicator. Among them, LR achieves\n",
      "the highest accuracy rate using BoW with overall optimum testing time and robust testing time per statement. In addition to shedding\n",
      "light on myths and facts regarding child development, this study provides a solid base for future research in the field.\n",
      "Data availability statement\n",
      "The data used in this study are openly available at https://researchoutput.csu.edu.au/en/datasets/myths-and-facts-data-on-child-\n",
      "development.\n",
      "CRediT authorship contribution statement\n",
      "Mehedi Tajrian: Writing – original draft, Visualization, Validation, Software, Resources, Methodology, Investigation, Formal\n",
      "analysis, Data curation, Conceptualization. Azizur Rahman: Writing – review & editing, Supervision, Conceptualization. Muhammad\n",
      "Ashad Kabir: Writing – review & editing, Supervision, Conceptualization. Md Rafiqul Islam: Writing – review & editing, Supervision.\n",
      "Declaration of competing interest\n",
      "The authors declare the following financial interests/personal relationships which may be considered as potential competing in-\n",
      "terests:The co-author, Associate Professor Ashad Kabir, holds the position of Associate Editor at Heliyon Journal.\n",
      "Appendix A. Supplementary data\n",
      "Supplementary data to this article can be found online at https://doi.org/10.1016/j.heliyon.2024.e36652.\n",
      "References\n",
      "\n",
      "A critical gap exists regarding the comprehensive analysis of myths and facts surrounding child development. Data on child\n",
      "development myths and facts have not yet been analysed using modern data science techniques. A few studies used text mining to\n",
      "predict child abuse cases [7,8]. This study aims to apply text mining techniques and classification models to analyse and differentiate\n",
      "myths and facts about child development. By leveraging newly gathered data from publicly available websites, the study seeks to\n",
      "provide valuable insights and improve the accuracy of information parents use in decision-making.\n",
      "The research addresses the following questions: (i) how effective are text mining techniques in pre-processing and structuring data\n",
      "on child development myths and facts? (ii) which classification models perform best in terms of accuracy when applied to this data?\n",
      "(iii) how do different feature extraction techniques impact the performance of these models? (iv) what validation methods are most\n",
      "reliable for verifying the accuracy of these models? and (v) how cost-effective are these models?\n",
      "The key contributions of this study are fourfold: (i) providing a comprehensive analysis of the new data, that is made useable\n",
      "through several text mining techniques including categorization, preprocessing and cleaning, (ii) analysing the data by feature\n",
      "extraction techniques and classification strategies, and comparing with deep learning method for different training-testing sizes; (iii)\n",
      "verifying the analysis results through several validation methods; and (iv) evaluating the cost-effectiveness of the models. The findings\n",
      "from this study would enrich the literature of data science which will help the researchers for their future analysis. It will also add a\n",
      "new domain of research findings about child development facts and myths, from which the parental community would be able to take\n",
      "better decisions for their children.\n",
      "This study applies text mining techniques to pre-process the data for enhancing the performance and accuracy. The structured data\n",
      "is then analysed using six classification and one deep learning models with two feature extraction techniques for three training-testing\n",
      "splits. Cross-validation is performed to ensure the reliability of the results. The findings indicate that LR achieves the highest accuracy\n",
      "at 90 % using BoW. LR excels in speed and efficiency by maintaining low testing time per statement (0.97 μ s) for both feature\n",
      "extraction methods. The results demonstrate that LR is effective in classifying child development information, providing a valuable\n",
      "tool for debunking myths and aiding parents in making informed decisions. The findings enrich the data science literature and open a\n",
      "new domain of research on child development myths and facts, ultimately helping the parental community make better decisions for\n",
      "their children.\n",
      "\n",
      "Research article\n",
      "Analysis of child development facts and myths using text mining\n",
      "techniques and classification models\n",
      "Mehedi Tajrian\n",
      "**\n",
      ", Azizur Rahman , Muhammad Ashad Kabir\n",
      "*\n",
      ", Md Rafiqul Islam\n",
      "School of Computing, Mathematics and Engineering, Charles Sturt University, NSW, Australia\n",
      "ARTICLE INFO\n",
      "Keywords:\n",
      "Misinformation\n",
      "Myth\n",
      "Text mining\n",
      "Machine learning\n",
      "Deep learning\n",
      "ABSTRACT\n",
      "The rapid dissemination of misinformation on the internet complicates the decision-making\n",
      "process for individuals seeking reliable information, particularly parents researching child\n",
      "development topics. This misinformation can lead to adverse consequences, such as inappropriate\n",
      "treatment of children based on myths. While previous research has utilized text-mining tech-\n",
      "niques to predict child abuse cases, there has been a gap in the analysis of child development\n",
      "myths and facts. This study addresses this gap by applying text mining techniques and classifi-\n",
      "cation models to distinguish between myths and facts about child development, leveraging newly\n",
      "gathered data from publicly available websites. The research methodology involved several\n",
      "stages. First, text mining techniques were employed to pre-process the data, ensuring enhanced\n",
      "accuracy. Subsequently, the structured data was analysed using six robust Machine Learning (ML)\n",
      "classifiers and one Deep Learning (DL) model, with two feature extraction techniques applied to\n",
      "assess their performance across three different training-testing splits. To ensure the reliability of\n",
      "the results, cross-validation was performed using both k-fold and leave-one-out methods. Among\n",
      "the classification models tested, Logistic Regression (LR) demonstrated the highest accuracy,\n",
      "achieving a 90 % accuracy with the Bag-of-Words (BoW) feature extraction technique. LR stands\n",
      "out for its exceptional speed and efficiency, maintaining low testing time per statement (0.97 μ s).\n",
      "These findings suggest that LR, when combined with BoW, is effective in accurately classifying\n",
      "child development information, thus providing a valuable tool for combating misinformation and\n",
      "assisting parents in making informed decisions.\n",
      "1. Introduction\n",
      "In the internet age, misinformation spreads rapidly, leading to anxiety, depression, and emotional exhaustion among individuals\n",
      "[ 1 , 2 ]. Awareness of misinformation is crucial to prevent being misled. Myths, a form of misinformation, are often false statements that\n",
      "go unchallenged and are perpetuated through social and familial influences [ 3 ]. Although some myths may hold true for a few in-\n",
      "dividuals, they are generally misunderstood by the broader public. Research on child development is vital [ 4 ]. Proper treatment of\n",
      "children is essential for their optimal growth and development. Parents ’ decisions about their children ’ s nutrition and overall\n",
      "development are often influenced by the information they find online [ 5 ]. Unfortunately, not all this information is accurate, and\n",
      "\n"
     ]
    }
   ],
   "source": [
    "query = \"Why did Mehedi Tajrian analyse child development and what was the best classifier?\"\n",
    "\n",
    "docs = db.similarity_search(query=query, k=3)\n",
    "# retrieve relevant chunks\n",
    "retrieved_chunks = [doc.page_content for doc in docs]\n",
    "# format prompt\n",
    "final_answer_resource = \"\\n\\n\".join(retrieved_chunks).strip()\n",
    "\n",
    "print(f\"{query}\\n\")\n",
    "print(f\"Final Answer:\\n{final_answer_resource}\\n\")"
   ]
  },
  {
   "cell_type": "markdown",
   "metadata": {},
   "source": [
    "### **Similarity Search With Prompting**"
   ]
  },
  {
   "cell_type": "code",
   "execution_count": null,
   "metadata": {},
   "outputs": [
    {
     "name": "stdout",
     "output_type": "stream",
     "text": [
      "Researcher answer:\n",
      " 1. The text discusses a study that analyzes structured data related to myths and facts about child development using various feature extraction methods, traditional classification models, and a deep learning model.\n",
      "\n",
      "2. The study found that Logistic Regression (LR) achieved the highest accuracy rate of 90% when using the Bag-of-Words (BoW) feature extraction technique.\n",
      "\n",
      "3. Cross-validation was performed using k-fold and leave-one-out methods to ensure the reliability of the results.\n",
      "\n",
      "4. The study also evaluated the cost-effectiveness of the models, with LR being the most cost-effective due to its high accuracy and low testing time per statement.\n",
      "\n",
      "5. The findings of this study provide a solid base for future research in the field and aim to help parents make informed decisions about their children's development by debunking myths and providing accurate information. The data used in the study is openly available online. The study was conducted by a team of researchers from the School of Computing, Mathematics and Engineering at Charles Sturt University, NSW, Australia. The study was published in the Heliyon Journal, and the co-author Associate Professor Ashad Kabir holds the position of Associate Editor at the same journal. The study's findings enrich the data science literature and open a new domain of research on child development myths and facts.\n",
      "Source(s):\n",
      "- Title: Analysis of child development facts and myths using text mining techniques and classification models, Page: 15\n",
      "- Title: Analysis of child development facts and myths using text mining techniques and classification models, Page: 2\n",
      "- Title: Analysis of child development facts and myths using text mining techniques and classification models, Page: 1\n"
     ]
    }
   ],
   "source": [
    "# Extract the answer\n",
    "researcher_input_data = {\"text\":final_answer_resource}\n",
    "llm_researcher_chain = prompt_researcher | chat_model\n",
    "researcher_response = llm_researcher_chain.invoke(researcher_input_data)\n",
    "print(f\"Researcher answer:\\n{researcher_response.content}\")\n",
    "try:\n",
    "    sources = []\n",
    "    for i in range(len(docs)):\n",
    "        source = docs[i].metadata['source']\n",
    "        if not any(source == s for s in sources):\n",
    "            sources.append(source)\n",
    "except IndexError as error:\n",
    "    print(\"No sources\")\n",
    "    sources.append(\"No sources\")\n",
    "\n",
    "print(\"Source(s):\")\n",
    "for source in sources:\n",
    "    print(f\"- {source}\")"
   ]
  },
  {
   "cell_type": "markdown",
   "metadata": {},
   "source": [
    "### **Conclusion**\n",
    "- As seen the use of a prompt, helped refined the output of the retriever thereby giving a more refined output for the user when asking questions about the resources stored in the vector database"
   ]
  }
 ],
 "metadata": {
  "kernelspec": {
   "display_name": "Python 3",
   "language": "python",
   "name": "python3"
  },
  "language_info": {
   "codemirror_mode": {
    "name": "ipython",
    "version": 3
   },
   "file_extension": ".py",
   "mimetype": "text/x-python",
   "name": "python",
   "nbconvert_exporter": "python",
   "pygments_lexer": "ipython3",
   "version": "3.11.9"
  }
 },
 "nbformat": 4,
 "nbformat_minor": 2
}
